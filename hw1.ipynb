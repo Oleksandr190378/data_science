{
  "nbformat": 4,
  "nbformat_minor": 0,
  "metadata": {
    "colab": {
      "provenance": []
    },
    "kernelspec": {
      "name": "python3",
      "display_name": "Python 3"
    },
    "language_info": {
      "name": "python"
    }
  },
  "cells": [
    {
      "cell_type": "markdown",
      "source": [
        "домашнє завдання №1"
      ],
      "metadata": {
        "id": "gJbuq2g1XPlT"
      }
    },
    {
      "cell_type": "code",
      "execution_count": 2,
      "metadata": {
        "id": "m6uuJRzM7LzO"
      },
      "outputs": [],
      "source": [
        "import numpy as np"
      ]
    },
    {
      "cell_type": "code",
      "source": [
        "\n",
        "x = np.arange(1, 11)\n",
        "print('result:')\n",
        "print(x)"
      ],
      "metadata": {
        "colab": {
          "base_uri": "https://localhost:8080/"
        },
        "id": "COxaHZar_Skc",
        "outputId": "2de115c5-451c-42a4-e195-e0d729809f0c"
      },
      "execution_count": 13,
      "outputs": [
        {
          "output_type": "stream",
          "name": "stdout",
          "text": [
            "result:\n",
            "[ 1  2  3  4  5  6  7  8  9 10]\n"
          ]
        }
      ]
    },
    {
      "cell_type": "code",
      "source": [
        "data = np.zeros((3, 3), dtype=int)\n",
        "print('result:')\n",
        "print(data)"
      ],
      "metadata": {
        "id": "-bKav-ROAiqi",
        "outputId": "e57538f3-44e8-4d88-cd20-1774754d03b3",
        "colab": {
          "base_uri": "https://localhost:8080/"
        }
      },
      "execution_count": 14,
      "outputs": [
        {
          "output_type": "stream",
          "name": "stdout",
          "text": [
            "result:\n",
            "[[0 0 0]\n",
            " [0 0 0]\n",
            " [0 0 0]]\n"
          ]
        }
      ]
    },
    {
      "cell_type": "code",
      "source": [
        "random_matrix = np.random.randint(1, 11, size=(5, 5))\n",
        "\n",
        "print(\"Матриця з випадковими цілими числами:\")\n",
        "print(random_matrix)"
      ],
      "metadata": {
        "colab": {
          "base_uri": "https://localhost:8080/"
        },
        "id": "R1ZZCBv4Ql55",
        "outputId": "703e1b6d-d168-4f94-9de2-9802fb2d55c4"
      },
      "execution_count": null,
      "outputs": [
        {
          "output_type": "stream",
          "name": "stdout",
          "text": [
            "Матриця з випадковими цілими числами:\n",
            "[[ 3  1  2  5  3]\n",
            " [ 4  1  1  4  3]\n",
            " [ 2  5  1  8  7]\n",
            " [ 7  8  5  4  8]\n",
            " [10  8  9  7  3]]\n"
          ]
        }
      ]
    },
    {
      "cell_type": "code",
      "source": [
        "random_matrix = np.random.rand(4, 4)\n",
        "\n",
        "print(\"Матриця з випадковими дійсними числами:\")\n",
        "print(random_matrix)"
      ],
      "metadata": {
        "colab": {
          "base_uri": "https://localhost:8080/"
        },
        "id": "H2l093RgVmUc",
        "outputId": "4cd7afca-2ece-4af2-bf24-6176ce8e58ff"
      },
      "execution_count": null,
      "outputs": [
        {
          "output_type": "stream",
          "name": "stdout",
          "text": [
            "Матриця з випадковими дійсними числами:\n",
            "[[0.39636384 0.7407556  0.45500489 0.00854627]\n",
            " [0.17583935 0.05154755 0.14639151 0.25577892]\n",
            " [0.24123619 0.34173635 0.35363293 0.8891729 ]\n",
            " [0.33025845 0.43687793 0.29342451 0.25889972]]\n"
          ]
        }
      ]
    },
    {
      "cell_type": "code",
      "source": [
        "np.round(np.random.rand(4, 4), 3)"
      ],
      "metadata": {
        "colab": {
          "base_uri": "https://localhost:8080/"
        },
        "id": "pAyyedqde7xa",
        "outputId": "bbf4e6cf-4454-4398-c0a0-65e665c7d077"
      },
      "execution_count": null,
      "outputs": [
        {
          "output_type": "execute_result",
          "data": {
            "text/plain": [
              "array([[0.367, 0.235, 0.563, 0.786],\n",
              "       [0.308, 0.863, 0.463, 0.685],\n",
              "       [0.121, 0.562, 0.061, 0.382],\n",
              "       [0.08 , 0.236, 0.868, 0.313]])"
            ]
          },
          "metadata": {},
          "execution_count": 32
        }
      ]
    },
    {
      "cell_type": "code",
      "source": [
        "x = np.random.randint(1, 11, size=(5))\n",
        "print(x)\n",
        "y = np.random.randint(1, 11, size=(5))\n",
        "print(y)\n",
        "print('result:')\n",
        "print(x+y)\n",
        "print(x-y)\n",
        "print(x*y)"
      ],
      "metadata": {
        "colab": {
          "base_uri": "https://localhost:8080/"
        },
        "id": "54R6RrvZWLqW",
        "outputId": "ea9c8852-50b4-4ae3-e916-b543a3658914"
      },
      "execution_count": 12,
      "outputs": [
        {
          "output_type": "stream",
          "name": "stdout",
          "text": [
            "[1 5 5 9 9]\n",
            "[ 1 10 10 10  5]\n",
            "result:\n",
            "[ 2 15 15 19 14]\n",
            "[ 0 -5 -5 -1  4]\n",
            "[ 1 50 50 90 45]\n"
          ]
        }
      ]
    },
    {
      "cell_type": "code",
      "source": [
        "a = np.random.randn(7)\n",
        "b = np.random.randn(7)\n",
        "print(a)\n",
        "print(b)\n",
        "print('result:')\n",
        "c = np.dot(a, b)\n",
        "print(c)\n"
      ],
      "metadata": {
        "colab": {
          "base_uri": "https://localhost:8080/"
        },
        "id": "JvVzMi2fXXxG",
        "outputId": "19e28329-edd8-4a27-a652-c7eb7819e0ba"
      },
      "execution_count": 7,
      "outputs": [
        {
          "output_type": "stream",
          "name": "stdout",
          "text": [
            "[ 2.94842027 -0.81484082 -0.73456235 -0.04303329  0.33051002  0.92551589\n",
            " -0.43558731]\n",
            "[-0.5719434   2.41222059 -1.06593594  0.37965255  1.28777851 -0.22905624\n",
            "  0.05886869]\n",
            "result\n",
            "-2.6972605470789683\n"
          ]
        }
      ]
    },
    {
      "cell_type": "code",
      "source": [
        "x = np.random.randint(1, 11, size=(2, 2))\n",
        "print(x)\n",
        "y = np.random.randint(1, 11, size=(2, 3))\n",
        "print(y)\n",
        "print('result:')\n",
        "c = np.dot(x, y)\n",
        "print(c)"
      ],
      "metadata": {
        "colab": {
          "base_uri": "https://localhost:8080/"
        },
        "id": "QX-C6iYtYT4e",
        "outputId": "cfaeeede-d557-47eb-bdd8-59be7bb83fe0"
      },
      "execution_count": 8,
      "outputs": [
        {
          "output_type": "stream",
          "name": "stdout",
          "text": [
            "[[5 1]\n",
            " [8 1]]\n",
            "[[6 2 9]\n",
            " [4 3 3]]\n",
            "result\n",
            "[[34 13 48]\n",
            " [52 19 75]]\n"
          ]
        }
      ]
    },
    {
      "cell_type": "code",
      "source": [
        "x = np.random.randint(1, 11, size=(3, 3))\n",
        "print(x)\n",
        "print('result:')\n",
        "x_inv = np.linalg.inv(x)\n",
        "print(x_inv)"
      ],
      "metadata": {
        "colab": {
          "base_uri": "https://localhost:8080/"
        },
        "id": "V3UxKln_Y0My",
        "outputId": "22c43c60-be32-4e73-c7eb-d4a8af2cbe14"
      },
      "execution_count": 9,
      "outputs": [
        {
          "output_type": "stream",
          "name": "stdout",
          "text": [
            "[[9 7 6]\n",
            " [8 9 1]\n",
            " [4 5 1]]\n",
            "result\n",
            "[[ 0.125    0.71875 -1.46875]\n",
            " [-0.125   -0.46875  1.21875]\n",
            " [ 0.125   -0.53125  0.78125]]\n"
          ]
        }
      ]
    },
    {
      "cell_type": "code",
      "source": [
        "random_matrix = np.random.rand(3,3)\n",
        "print(random_matrix)\n",
        "print('result:')\n",
        "print(random_matrix.T)"
      ],
      "metadata": {
        "id": "1B6930Qia71X",
        "colab": {
          "base_uri": "https://localhost:8080/"
        },
        "outputId": "85b57fe8-e093-4b0a-95e1-0a2413157f24"
      },
      "execution_count": 10,
      "outputs": [
        {
          "output_type": "stream",
          "name": "stdout",
          "text": [
            "[[0.77688335 0.29400352 0.44214267]\n",
            " [0.56336085 0.94891371 0.30466541]\n",
            " [0.94365776 0.61506773 0.00560988]]\n",
            "result\n",
            "[[0.77688335 0.56336085 0.94365776]\n",
            " [0.29400352 0.94891371 0.61506773]\n",
            " [0.44214267 0.30466541 0.00560988]]\n"
          ]
        }
      ]
    },
    {
      "cell_type": "code",
      "source": [
        "x = np.random.randint(1, 11, size=(3, 4))\n",
        "y = np.random.randint(1, 11, size=(4, ))\n",
        "print(x)\n",
        "print(y)\n",
        "print('result:')\n",
        "c = np.dot(x, y)\n",
        "print(c)"
      ],
      "metadata": {
        "colab": {
          "base_uri": "https://localhost:8080/"
        },
        "id": "italgscuaIWB",
        "outputId": "91281b78-fd21-46bc-fbcb-3b39cc524346"
      },
      "execution_count": 11,
      "outputs": [
        {
          "output_type": "stream",
          "name": "stdout",
          "text": [
            "[[1 4 4 6]\n",
            " [9 7 4 2]\n",
            " [7 7 7 8]]\n",
            "[1 6 5 5]\n",
            "result\n",
            "[ 75  81 124]\n"
          ]
        }
      ]
    },
    {
      "cell_type": "code",
      "source": [
        "x = np.random.rand(2,3)\n",
        "y = np.random.rand(3,)\n",
        "print(x)\n",
        "print(y)\n",
        "print('result:')\n",
        "c = np.dot(x, y)\n",
        "print(c)"
      ],
      "metadata": {
        "colab": {
          "base_uri": "https://localhost:8080/"
        },
        "id": "SRZIQqiQgwkC",
        "outputId": "9789a976-7223-463d-d46f-033a4cf47e6c"
      },
      "execution_count": 17,
      "outputs": [
        {
          "output_type": "stream",
          "name": "stdout",
          "text": [
            "[[0.40674074 0.70032771 0.80176213]\n",
            " [0.19419165 0.77747428 0.2844672 ]]\n",
            "[0.69301683 0.28100016 0.15068391]\n",
            "result:\n",
            "[0.59948303 0.39591311]\n"
          ]
        }
      ]
    },
    {
      "cell_type": "code",
      "source": [
        "x = np.random.randint(1, 11, size=(2, 2))\n",
        "y = np.random.randint(1, 11, size=(2, 2))\n",
        "print(x)\n",
        "print(y)\n",
        "print('result:')\n",
        "c = x*y\n",
        "print(c)"
      ],
      "metadata": {
        "colab": {
          "base_uri": "https://localhost:8080/"
        },
        "id": "enro_vfrngDd",
        "outputId": "93ce3aa2-cef5-46a7-a52a-7791694c2f84"
      },
      "execution_count": 18,
      "outputs": [
        {
          "output_type": "stream",
          "name": "stdout",
          "text": [
            "[[9 3]\n",
            " [3 4]]\n",
            "[[7 7]\n",
            " [3 3]]\n",
            "result:\n",
            "[[63 21]\n",
            " [ 9 12]]\n"
          ]
        }
      ]
    },
    {
      "cell_type": "code",
      "source": [
        "x = np.random.randint(1, 11, size=(2, 2))\n",
        "y = np.random.randint(1, 11, size=(2, 2))\n",
        "print(x)\n",
        "print(y)\n",
        "print('result:')\n",
        "c = np.dot(x, y)\n",
        "print(c)"
      ],
      "metadata": {
        "colab": {
          "base_uri": "https://localhost:8080/"
        },
        "id": "k58DPEzvnwos",
        "outputId": "17d61acb-693e-4470-f940-17c2db702e40"
      },
      "execution_count": 19,
      "outputs": [
        {
          "output_type": "stream",
          "name": "stdout",
          "text": [
            "[[3 1]\n",
            " [9 5]]\n",
            "[[ 2 10]\n",
            " [ 1  8]]\n",
            "result:\n",
            "[[  7  38]\n",
            " [ 23 130]]\n"
          ]
        }
      ]
    },
    {
      "cell_type": "code",
      "source": [
        "a = np.random.randint(1, 101, size=(5, 5))\n",
        "print(a)\n",
        "print('result:')\n",
        "print(a.sum())"
      ],
      "metadata": {
        "colab": {
          "base_uri": "https://localhost:8080/"
        },
        "id": "7y_iq4I5oDaB",
        "outputId": "0737234b-e940-4d5f-d944-cbf02fecb75d"
      },
      "execution_count": 20,
      "outputs": [
        {
          "output_type": "stream",
          "name": "stdout",
          "text": [
            "[[12 22 40 65  3]\n",
            " [40 61 99 85 43]\n",
            " [41 40 38  1 57]\n",
            " [86 16 25 81 99]\n",
            " [25 88 46 85 75]]\n",
            "result:\n",
            "1273\n"
          ]
        }
      ]
    },
    {
      "cell_type": "code",
      "source": [
        "x = np.random.randint(1, 11, size=(4, 4))\n",
        "y = np.random.randint(1, 11, size=(4, 4))\n",
        "print(x)\n",
        "print(y)\n",
        "print('result:')\n",
        "z = x - y\n",
        "print(z)"
      ],
      "metadata": {
        "colab": {
          "base_uri": "https://localhost:8080/"
        },
        "id": "h29OIK9Mo4j4",
        "outputId": "1f2c856f-667e-4143-d08f-fb6a821b7ee2"
      },
      "execution_count": 21,
      "outputs": [
        {
          "output_type": "stream",
          "name": "stdout",
          "text": [
            "[[ 5  8  5  5]\n",
            " [ 9 10  9  4]\n",
            " [ 8  5  2  3]\n",
            " [ 7  1  3 10]]\n",
            "[[ 4  7  5  2]\n",
            " [ 1  7 10  6]\n",
            " [ 5 10  7  3]\n",
            " [ 7 10 10  7]]\n",
            "result:\n",
            "[[ 1  1  0  3]\n",
            " [ 8  3 -1 -2]\n",
            " [ 3 -5 -5  0]\n",
            " [ 0 -9 -7  3]]\n"
          ]
        }
      ]
    },
    {
      "cell_type": "code",
      "source": [
        "a = np.random.rand(3,3)\n",
        "print(a)\n",
        "v = np.array([a[0, ].sum(), a[1, ].sum(), a[2, ].sum()])\n",
        "print('result')\n",
        "print(v)"
      ],
      "metadata": {
        "colab": {
          "base_uri": "https://localhost:8080/"
        },
        "id": "cXUDCLU3pb4e",
        "outputId": "c2c324a4-5d0a-4212-c5e9-1e2daf37513d"
      },
      "execution_count": 3,
      "outputs": [
        {
          "output_type": "stream",
          "name": "stdout",
          "text": [
            "[[0.08217667 0.02744288 0.29378703]\n",
            " [0.48072965 0.57736157 0.82892279]\n",
            " [0.33777231 0.02248793 0.6252229 ]]\n",
            "result\n",
            "[0.40340658 1.88701402 0.98548313]\n"
          ]
        }
      ]
    },
    {
      "cell_type": "code",
      "source": [
        "a = np.random.randint( 1, 1111, size=(3, 4))\n",
        "print(a)\n",
        "z = np.square(a)\n",
        "print(z)"
      ],
      "metadata": {
        "colab": {
          "base_uri": "https://localhost:8080/"
        },
        "id": "KwSLnKqIrU8o",
        "outputId": "6f5de00c-19c2-4c9d-8d3a-7f5f0e41aef3"
      },
      "execution_count": 28,
      "outputs": [
        {
          "output_type": "stream",
          "name": "stdout",
          "text": [
            "[[ 644  414 1034  439]\n",
            " [ 329  299  286   84]\n",
            " [ 805 1050  224  631]]\n",
            "[[ 414736  171396 1069156  192721]\n",
            " [ 108241   89401   81796    7056]\n",
            " [ 648025 1102500   50176  398161]]\n"
          ]
        }
      ]
    },
    {
      "cell_type": "code",
      "source": [
        "v = np.random.randint( 1, 51, size=(4))\n",
        "print(v)\n",
        "a = np.sqrt(v)\n",
        "print('result')\n",
        "print(a)"
      ],
      "metadata": {
        "colab": {
          "base_uri": "https://localhost:8080/"
        },
        "id": "GNw7lDtUux3F",
        "outputId": "3951f197-7c69-4a65-e060-81bd7c9bcaaa"
      },
      "execution_count": 32,
      "outputs": [
        {
          "output_type": "stream",
          "name": "stdout",
          "text": [
            "[ 5 23 14 25]\n",
            "result\n",
            "[2.23606798 4.79583152 3.74165739 5.        ]\n"
          ]
        }
      ]
    }
  ]
}